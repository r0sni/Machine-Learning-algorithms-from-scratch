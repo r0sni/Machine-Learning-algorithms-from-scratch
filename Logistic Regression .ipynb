{
 "cells": [
  {
   "cell_type": "code",
   "execution_count": 11,
   "metadata": {},
   "outputs": [],
   "source": [
    "#Import libraries\n",
    "import math"
   ]
  },
  {
   "cell_type": "code",
   "execution_count": 1,
   "metadata": {},
   "outputs": [],
   "source": [
    "#Read data\n",
    "# Open the file named 'ionosphere.data' in read mode\n",
    "f = open(\"ionosphere.data\")\n",
    "# Initialize an empty list to store the data\n",
    "x = []\n",
    "# Initialize a counter variable to keep track of the number of lines read\n",
    "i = 0\n",
    "# Read the first line from the file\n",
    "l = f.readline()\n",
    "# Continue reading the file until the end is reached (l becomes an empty string)\n",
    "while(l != ''):\n",
    "    # Split the current line into a list of strings separated by space\n",
    "    a = l.split()\n",
    "    # Iterate over each element in the list 'a', convert it to float and append to l2\n",
    "    l2 = []\n",
    "    for j in range(0,len(a),1):\n",
    "        l2.append(float(a[j]))\n",
    "    x.append(l2)\n",
    "    # Read the next line from the file\n",
    "    l = f.readline()\n",
    "    # Append the value '1' to the end of the current list in 'x' to include the bias term\n",
    "    x[i].append(1)\n",
    "    i +=1\n",
    "    \n",
    "#Calculate number of lines read from file and the number of columns    \n",
    "rows = len(x)\n",
    "cols = len(x[0])\n",
    "f.close() "
   ]
  },
  {
   "cell_type": "code",
   "execution_count": 2,
   "metadata": {},
   "outputs": [
    {
     "name": "stdout",
     "output_type": "stream",
     "text": [
      "351\n",
      "35\n"
     ]
    }
   ],
   "source": [
    "print(rows)\n",
    "print(cols)"
   ]
  },
  {
   "cell_type": "code",
   "execution_count": 5,
   "metadata": {},
   "outputs": [],
   "source": [
    "#Read labels\n",
    "# Open the labels file in read mode\n",
    "f = open(\"ionosphere.trainlabels.0\")\n",
    "# Initialize an empty dictionary to store the labels\n",
    "y = {}\n",
    "# Initialize an empty list to store the count of labels\n",
    "n = []\n",
    "# Append 0 to the list (for counting label 0)\n",
    "n.append(0)\n",
    "# Append another 0 to the list (for counting label 1)\n",
    "n.append(0)\n",
    "# Continue reading the file until the end is reached\n",
    "l = f.readline()\n",
    "while(l != ''):\n",
    "    a = l.split()\n",
    "    # Store the label (converted to integer) in the dictionary with the row index as the key\n",
    "    y[int(a[1])] = int(a[0])\n",
    "    # If the label is 0, convert it to -1\n",
    "    if(y[int(a[1])] == 0):\n",
    "        y[int(a[1])] = -1\n",
    "    l = f.readline()"
   ]
  },
  {
   "cell_type": "code",
   "execution_count": 6,
   "metadata": {},
   "outputs": [],
   "source": [
    "# Initialize weights\n",
    "import random\n",
    "# Initialize an empty list to store the weights\n",
    "w = []\n",
    "# Initialize the weights to zero\n",
    "for j in range(0,cols,1):\n",
    "    w.append(0)  \n",
    "# Assign a random weight between -0.01 and 0.01 to each element in 'w'\n",
    "for j in range(0,cols,1):\n",
    "    w[j] = 0.02*random.uniform(0,1)-0.01"
   ]
  },
  {
   "cell_type": "code",
   "execution_count": 7,
   "metadata": {},
   "outputs": [],
   "source": [
    "#Dotproduct function\n",
    "def dot(a,b):\n",
    "    \"\"\"\n",
    "    Compute the dot product of two lists or vectors.\n",
    "    \n",
    "    Parameters:\n",
    "    a (list or vector): The first vector.\n",
    "    b (list or vector): The second vector.\n",
    "    \n",
    "    Returns:\n",
    "    dp (float): The dot product of vectors 'a' and 'b'.\n",
    "    \"\"\"\n",
    "    dp = 0\n",
    "    for i,j in zip(a,b):\n",
    "        dp += i*j\n",
    "    return dp"
   ]
  },
  {
   "cell_type": "code",
   "execution_count": 8,
   "metadata": {},
   "outputs": [],
   "source": [
    "eta = 0.0001 # Learning rate for gradient descent\n",
    "stop = 0.001 # Convergence threshold for stopping the algorithm\n",
    "\n",
    "# Calculate the initial objective value (sum of squared errors)\n",
    "obj = 0\n",
    "for i in range(0,rows,1):\n",
    "    # Check if the label for the current row exists\n",
    "    if(y.get(i) != None):\n",
    "        # Compute the squared error between the actual label and the predicted value\n",
    "        obj += (y[i] - dot(w,x[i]))**2\n",
    "        \n",
    "# Initialize previous objective value to infinity for convergence check\n",
    "prev = float(\"inf\")\n",
    "\n",
    "# Loop until the change in the objective value is less than the convergence threshold\n",
    "while((prev - obj) > stop):\n",
    "    prev = obj # Update previous objective value\n",
    "    \n",
    "    # Initialize gradient list with zeros\n",
    "    grad = []\n",
    "    for j in range(0,cols,1):\n",
    "        grad.append(0) # Append 0 to the gradient list for each feature\n",
    "        \n",
    "    # Compute the gradient of the objective function    \n",
    "    for i in range(0,rows,1):\n",
    "        # Check if the label for the current row exists\n",
    "        if(y.get(i) != None):\n",
    "            dp = dot(w,x[i]) # Compute the dot product of weights and features\n",
    "            for j in range(0,cols,1):\n",
    "                # Update the gradient for each feature\n",
    "                grad[j] += (y[i] - dp)*x[i][j]\n",
    "                \n",
    "    # Update weights using gradient descent\n",
    "    for j in range(0,cols,1):\n",
    "        w[j] = w[j] + eta * grad[j]  # Adjust weight based on gradient and learning rate\n",
    "        \n",
    "    # Recalculate the objective value after updating weights    \n",
    "    obj = 0\n",
    "    for i in range(0,rows,1):\n",
    "        # Check if the label for the current row exists\n",
    "        if(y.get(i) != None):\n",
    "            # Compute the squared error between the actual label and the predicted value\n",
    "            obj += (y[i] - dot(w,x[i]))**2"
   ]
  },
  {
   "cell_type": "code",
   "execution_count": 9,
   "metadata": {},
   "outputs": [
    {
     "data": {
      "text/plain": [
       "[-0.5881547725576882,\n",
       " -0.0013261898980671833,\n",
       " -0.42757936834181537,\n",
       " -0.2778715707784579,\n",
       " -0.41885623518406684,\n",
       " -0.21059667442711258,\n",
       " -0.27323989301607665,\n",
       " -0.30500774341670156,\n",
       " -0.27715754996610914,\n",
       " -0.052482879783002215,\n",
       " 0.1928746482418476,\n",
       " 0.05047049211630706,\n",
       " 0.2324256898726385,\n",
       " -0.037928925298592306,\n",
       " -0.10518379640454485,\n",
       " 0.05115340506970634,\n",
       " -0.1829903021539886,\n",
       " -0.09744221221515656,\n",
       " 0.21793807254061554,\n",
       " -0.12409946576891118,\n",
       " -0.06770139237424402,\n",
       " 0.42549478921208794,\n",
       " -0.1875540451749235,\n",
       " -0.14991461369185863,\n",
       " -0.13101066798403949,\n",
       " -0.20262306622767015,\n",
       " 0.42606404642060713,\n",
       " 0.05549994825117645,\n",
       " -0.14478703867279627,\n",
       " -0.12454094439771188,\n",
       " -0.1796044829746856,\n",
       " -0.007398101725999215,\n",
       " 0.018193922379330034,\n",
       " 0.26338879166709844,\n",
       " 0.9682433500546589]"
      ]
     },
     "execution_count": 9,
     "metadata": {},
     "output_type": "execute_result"
    }
   ],
   "source": [
    "w"
   ]
  },
  {
   "cell_type": "code",
   "execution_count": 12,
   "metadata": {},
   "outputs": [],
   "source": [
    "# Calculate the L2 norm (Euclidean norm) of the weight vector\n",
    "# Initialize the norm to zero\n",
    "normw = 0\n",
    "\n",
    "# Iterate over each weight in the vector, compute the square root of the sum to get the Euclidean norm\n",
    "for j in range(cols-1):\n",
    "    normw += w[j]**2 \n",
    "normw = math.sqrt(normw) "
   ]
  },
  {
   "cell_type": "code",
   "execution_count": 14,
   "metadata": {},
   "outputs": [
    {
     "data": {
      "text/plain": [
       "0.7001592937819219"
      ]
     },
     "execution_count": 14,
     "metadata": {},
     "output_type": "execute_result"
    }
   ],
   "source": [
    "# Compute the distance from the origin for the last weight\n",
    "d_origin = abs(w[cols-1])/normw\n",
    "d_origin"
   ]
  },
  {
   "cell_type": "code",
   "execution_count": 15,
   "metadata": {},
   "outputs": [
    {
     "name": "stdout",
     "output_type": "stream",
     "text": [
      "0 3\n",
      "1 5\n",
      "1 21\n",
      "1 31\n",
      "0 39\n",
      "0 56\n",
      "0 63\n",
      "0 88\n",
      "0 89\n",
      "0 99\n",
      "0 103\n",
      "1 106\n",
      "1 137\n",
      "0 151\n",
      "1 156\n",
      "0 167\n",
      "0 177\n",
      "0 181\n",
      "1 190\n",
      "1 210\n",
      "0 216\n",
      "0 221\n",
      "0 234\n",
      "0 239\n",
      "0 251\n",
      "0 254\n",
      "0 262\n",
      "0 276\n",
      "0 288\n",
      "0 292\n",
      "0 298\n",
      "0 300\n",
      "0 307\n",
      "0 337\n",
      "0 343\n",
      "0 349\n"
     ]
    }
   ],
   "source": [
    "# Classify unlabeled data\n",
    "for i in range(rows):\n",
    "    if(y.get(i) == None):\n",
    "        # Compute the dot product of the weight vector and the feature vector\n",
    "        dp = dot(w,x[i])\n",
    "        # Apply the sigmoid function to get the probability\n",
    "        sig = 1/(1+math.exp(-dp))\n",
    "        # Classify based on the sigmoid output\n",
    "        if(sig>0.5):\n",
    "            print(1,i)\n",
    "        else:\n",
    "            print(0,i)"
   ]
  },
  {
   "cell_type": "code",
   "execution_count": null,
   "metadata": {},
   "outputs": [],
   "source": []
  },
  {
   "cell_type": "code",
   "execution_count": null,
   "metadata": {},
   "outputs": [],
   "source": []
  }
 ],
 "metadata": {
  "kernelspec": {
   "display_name": "Python 3 (ipykernel)",
   "language": "python",
   "name": "python3"
  },
  "language_info": {
   "codemirror_mode": {
    "name": "ipython",
    "version": 3
   },
   "file_extension": ".py",
   "mimetype": "text/x-python",
   "name": "python",
   "nbconvert_exporter": "python",
   "pygments_lexer": "ipython3",
   "version": "3.9.15"
  }
 },
 "nbformat": 4,
 "nbformat_minor": 2
}
