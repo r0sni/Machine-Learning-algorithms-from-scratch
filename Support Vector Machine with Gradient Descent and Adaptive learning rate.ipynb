{
 "cells": [
  {
   "cell_type": "code",
   "execution_count": 1,
   "metadata": {},
   "outputs": [],
   "source": [
    "#Import libraries\n",
    "import sys\n",
    "import random\n",
    "import math\n",
    "from math import log\n",
    "from math import exp"
   ]
  },
  {
   "cell_type": "code",
   "execution_count": 2,
   "metadata": {},
   "outputs": [],
   "source": [
    "#Read data\n",
    "# Open the file named 'ionosphere.data' in read mode\n",
    "f = open(\"ionosphere.data\")\n",
    "# Initialize an empty list to store the data\n",
    "x = []\n",
    "# Initialize a counter variable to keep track of the number of lines read\n",
    "i = 0\n",
    "# Read the first line from the file\n",
    "l = f.readline()\n",
    "# Continue reading the file until the end is reached (i.e, l becomes an empty string)\n",
    "while(l != ''):\n",
    "    # Split the current line into a list of strings separated by space\n",
    "    a = l.split()\n",
    "    # Iterate over each element in the list 'a', convert it to float and append to l2\n",
    "    l2 = []\n",
    "    for j in range(0,len(a),1):\n",
    "        l2.append(float(a[j]))\n",
    "    x.append(l2)\n",
    "    # Read the next line from the file\n",
    "    l = f.readline()\n",
    "    # Append the value '1' to the end of the current list in 'x' to include the bias term\n",
    "    x[i].append(1)\n",
    "    i +=1\n",
    "\n",
    "#Calculate number of lines read from file and the number of columns \n",
    "rows = len(x)\n",
    "cols = len(x[0])\n",
    "f.close() "
   ]
  },
  {
   "cell_type": "code",
   "execution_count": 3,
   "metadata": {},
   "outputs": [],
   "source": [
    "#Read labels\n",
    "# Open the labels file in read mode\n",
    "f = open(\"ionosphere.trainlabels.0\")\n",
    "# Initialize an empty dictionary to store the labels\n",
    "y = {}\n",
    "# Initialize an empty list to store the count of labels\n",
    "n = []\n",
    "# Append 0 to the list (for counting label 0)\n",
    "n.append(0)\n",
    "# Append another 0 to the list (for counting label 1)\n",
    "n.append(0)\n",
    "l = f.readline()\n",
    "# Continue reading the file until the end is reached\n",
    "while(l != ''):\n",
    "    a = l.split()\n",
    "    # Store the label (converted to integer) in the dictionary with the row index as the key\n",
    "    y[int(a[1])] = int(a[0])\n",
    "    # If the label is 0, convert it to -1\n",
    "    if(y[int(a[1])] == 0):\n",
    "        y[int(a[1])] = -1\n",
    "    l = f.readline()"
   ]
  },
  {
   "cell_type": "code",
   "execution_count": 4,
   "metadata": {},
   "outputs": [],
   "source": [
    "# Initialize weights\n",
    "import random\n",
    "# Initialize an empty list to store the weights\n",
    "w = []\n",
    "# Initialize the weights to zero\n",
    "for j in range(0,cols,1):\n",
    "    w.append(0)  \n",
    "# Assign a random weight each element in 'w'\n",
    "for j in range(0,cols,1):\n",
    "    w[j] = 0.02*random.uniform(0,1)-0.01"
   ]
  },
  {
   "cell_type": "code",
   "execution_count": 5,
   "metadata": {},
   "outputs": [],
   "source": [
    "#Dotproduct function\n",
    "def dot(a,b):\n",
    "    \"\"\"\n",
    "    Compute the dot product of two lists or vectors.\n",
    "    \n",
    "    Parameters:\n",
    "    a (list or vector): The first vector.\n",
    "    b (list or vector): The second vector.\n",
    "    \n",
    "    Returns:\n",
    "    dp (float): The dot product of vectors 'a' and 'b'.\n",
    "    \"\"\"\n",
    "    dp = 0\n",
    "    for i,j in zip(a,b):\n",
    "        dp += i*j\n",
    "    return dp"
   ]
  },
  {
   "cell_type": "code",
   "execution_count": 6,
   "metadata": {},
   "outputs": [],
   "source": [
    "# Calculate the initial objective value \n",
    "obj = 0\n",
    "for i in range(0,rows,1):\n",
    "    if(y.get(i) != None):\n",
    "        obj += max(0, 1 - y[i]*dot(w,x[i]))\n",
    "        \n",
    "# Initialize previous objective value to infinity\n",
    "prev = float(\"inf\")\n",
    "\n",
    "#Gradient descent iteration\n",
    "while(abs(prev - obj) > 0.000000001):\n",
    "    prev = obj\n",
    "    grad = []\n",
    "    for j in range(0,cols,1):\n",
    "        grad.append(0)\n",
    "    for i in range(0,rows,1):\n",
    "        if(y.get(i) != None):\n",
    "            for j in range(0,cols,1):\n",
    "                if(y[i]*dot(w,x[i])) < 1:\n",
    "                    grad[j] += -1*x[i][j]*y[i]\n",
    "                else:\n",
    "                    grad[j] += 0\n",
    "                \n",
    "    eta_list = [1, .1, .01, .001, .0001, .00001, .000001, .0000001, .00000001, .000000001, .0000000001, .00000000001 ]\n",
    "    bestobj = 1000000000000\n",
    "    for k in range(0, len(eta_list), 1):\n",
    "        eta = eta_list[k]\n",
    "         # Update weights using the current learning rate\n",
    "        for j in range(0,cols,1):\n",
    "            w[j] = w[j] - eta *grad[j]\n",
    "            \n",
    "        # Calculate the new objective value\n",
    "        obj = 0\n",
    "        for i in range(0,rows,1):\n",
    "            if(y.get(i) != None):\n",
    "                obj += max(0, 1 - y[i]*dot(w,x[i]))\n",
    "                \n",
    "         # Update best objective value and best learning rate if the new objective is better\n",
    "        if obj < bestobj:\n",
    "            bestobj = obj\n",
    "            best_eta = eta\n",
    "            \n",
    "        # Restore weights to their previous values for the next learning rate\n",
    "        for j in range(0,cols,1):\n",
    "            w[j] = w[j] + eta*grad[j]   \n",
    "            \n",
    "    eta = best_eta\n",
    "    # Update weights using the best learning rate found\n",
    "    for j in range(0,cols,1):\n",
    "        w[j] = w[j] - eta * grad[j]\n",
    "    # Recalculate the objective value after updating weights\n",
    "    obj = 0\n",
    "    for i in range(0,rows,1):\n",
    "        if(y.get(i) != None):\n",
    "            obj += max(0, 1 - y[i]*dot(w,x[i]))"
   ]
  },
  {
   "cell_type": "code",
   "execution_count": 7,
   "metadata": {},
   "outputs": [
    {
     "data": {
      "text/plain": [
       "0.6232083774677065"
      ]
     },
     "execution_count": 7,
     "metadata": {},
     "output_type": "execute_result"
    }
   ],
   "source": [
    "# Calculate the L2 norm (Euclidean norm) of the weight vector (excluding the last weight)\n",
    "normw = 0\n",
    "for j in range(cols-1):\n",
    "    normw += w[j]**2\n",
    "normw = math.sqrt(normw)\n",
    "\n",
    "d_origin = abs(w[cols-1])/normw\n",
    "d_origin"
   ]
  },
  {
   "cell_type": "code",
   "execution_count": 8,
   "metadata": {},
   "outputs": [
    {
     "name": "stdout",
     "output_type": "stream",
     "text": [
      "1 3\n",
      "1 5\n",
      "1 21\n",
      "1 31\n",
      "0 39\n",
      "0 56\n",
      "0 63\n",
      "0 88\n",
      "1 89\n",
      "0 99\n",
      "0 103\n",
      "1 106\n",
      "1 137\n",
      "0 151\n",
      "1 156\n",
      "0 167\n",
      "0 177\n",
      "0 181\n",
      "1 190\n",
      "1 210\n",
      "0 216\n",
      "0 221\n",
      "0 234\n",
      "0 239\n",
      "0 251\n",
      "0 254\n",
      "0 262\n",
      "0 276\n",
      "0 288\n",
      "0 292\n",
      "0 298\n",
      "0 300\n",
      "0 307\n",
      "0 337\n",
      "0 343\n",
      "0 349\n"
     ]
    }
   ],
   "source": [
    "#Classify the unlabelled data\n",
    "for i in range(rows):\n",
    "    if(y.get(i) == None):\n",
    "        dp = dot(w,x[i])\n",
    "        if(dp>0):\n",
    "            print(1,i)\n",
    "        else:\n",
    "            print(0,i)"
   ]
  },
  {
   "cell_type": "code",
   "execution_count": null,
   "metadata": {},
   "outputs": [],
   "source": []
  }
 ],
 "metadata": {
  "kernelspec": {
   "display_name": "Python 3 (ipykernel)",
   "language": "python",
   "name": "python3"
  },
  "language_info": {
   "codemirror_mode": {
    "name": "ipython",
    "version": 3
   },
   "file_extension": ".py",
   "mimetype": "text/x-python",
   "name": "python",
   "nbconvert_exporter": "python",
   "pygments_lexer": "ipython3",
   "version": "3.9.15"
  }
 },
 "nbformat": 4,
 "nbformat_minor": 2
}
